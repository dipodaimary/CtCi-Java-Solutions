{
 "cells": [
  {
   "cell_type": "markdown",
   "metadata": {},
   "source": [
    "### 6.1\n",
    "The Heavy Pill: You have 20 bottles of pills. 19 bottles have 1.0 gram pills, but one has pills of weight\n",
    "1.1 grams. Given a scale that provides an exact measurement, how would you find the heavy bottle?\n",
    "You can only use the scale once."
   ]
  },
  {
   "cell_type": "markdown",
   "metadata": {},
   "source": [
    "$1+2+3+\\dots +20 = 210$\n",
    "$$\n",
    "\\frac{weight - 210 grams}{0.1 grams}\n",
    "$$"
   ]
  },
  {
   "cell_type": "markdown",
   "metadata": {},
   "source": [
    "### 6.2\n",
    "Basketball: You have a basketball hoop and someone says that you can play one of two games.\n",
    "Game 1: You get one shot to make the hoop.\n",
    "Game 2: You get three shots and you have to make two of three shots.\n",
    "If p is the probability of making a particular shot, for which values of p should you pick one game\n",
    "or the other?"
   ]
  },
  {
   "cell_type": "markdown",
   "metadata": {},
   "source": [
    "Probability of winning Game 1: $p$\n",
    "Probability of winning Game 2:\n",
    "$$p*p*(1-p)+p*(1-p)*p+(1-p)*p*p+p^3 = 3p^2(1-p)+p^3 = 3p^2-2p^3$$\n",
    "Probability of P(Game1)>P(Game2)\n",
    "$$p>3p^2-2p^3$$\n",
    "$$\\Rightarrow 2p^3-3p^2+p>0$$\n",
    "$$\\Rightarrow (p-1)(2p-1)>0$$\n",
    "$$\\Rightarrow p <1, p<0.5$$"
   ]
  },
  {
   "cell_type": "markdown",
   "metadata": {},
   "source": [
    "### 6.3\n",
    "Dominos: There is an 8x8 chessboard in which two diagonally opposite corners have been cut off.\n",
    "You are given 31 dominos, and a single domino can cover exactly two squares. Can you use the 31\n",
    "dominos to cover the entire board? Prove your answer (by providing an example or showing why\n",
    "it's impossible)."
   ]
  },
  {
   "cell_type": "markdown",
   "metadata": {},
   "source": [
    "The chessboard initially has 32 black and 32 white\n",
    "squares. By removing opposite corners (which must be the same color), we're left with 30 of one color and\n",
    "32 of the other color. Let's say, for the sake of argument, that we have 30 black and 32 white squares.\n",
    "Each domino we set on the board will always take up one white and one black square. Therefore, 31 dominos\n",
    "will take up 31 white squares and 31 black squares exactly. On this board, however, we must have 30 black\n",
    "squares and 32 white squares. Hence, it is impossible."
   ]
  },
  {
   "cell_type": "markdown",
   "metadata": {},
   "source": [
    "### 6.4\n",
    "Ants on a Triangle: There are three ants on different vertices of a triangle. What is the probability of\n",
    "collisi on (between any two or all of them) if they start walking on the sides of the triangle? Assume\n",
    "that each ant randomly picks a direction, with either direction being equally likely to be chosen, and\n",
    "that they walk at the same speed.\n",
    "Similarly, find the probability of collision with n ants on an n-vertex polygon. "
   ]
  },
  {
   "cell_type": "markdown",
   "metadata": {},
   "source": [
    "$$p(\\text{clockwise}) = \\Big(\\frac{1}{2}\\Big)^3$$\n",
    "$$p(\\text{counter clockwise}) = \\Big(\\frac{1}{2}\\Big)^3$$\n",
    "$$p(\\text{same direction}) = 2\\Big(\\frac{1}{2}\\Big)^3 = \\frac{1}{4}$$\n",
    "$$p(\\text{collision}) = 1-\\frac{1}{4} = \\frac{3}{4}$$\n",
    "\n",
    "Generalization: for n polygon\n",
    "$$p(\\text{collision}) = 1- \\Big(\\frac{1}{2}\\Big)^n$$"
   ]
  },
  {
   "cell_type": "markdown",
   "metadata": {},
   "source": [
    "### 6.5\n",
    "Jugs of Water: You have a five-quart jug, a three-quart jug, and an unlimited supply of water (but\n",
    "no measuring cups) _ How would you come up with exactly four quarts of water? Note that the jugs\n",
    "are oddly shaped, such that filling up exactly \"half\" of the jug would be impossible"
   ]
  },
  {
   "cell_type": "markdown",
   "metadata": {},
   "source": [
    "Step1: Fill the three quarter jug\n",
    "\n",
    "Step2: Pour all the water from three quarter jug to five-quarter jug. We now have three-quarter water in five-quarter jug and there is space for two more quarter of water in the five quarter jug.\n",
    "\n",
    "Step 3: Now again fill the three quarter jug. \n",
    "\n",
    "Step 4: Pour water from three-quarter jug to five-quarter jug till the five quarter jug if filled. Since there was space for two quarter water in the five quarter jug after step 3, we pour only two quarter water from three quarter jug. So we are left with one quarter of water left in three quarter jug.\n",
    "\n",
    "Step 5: Now empty the five quarter jug and fill it completely and pour the remaining one quarter water from the three quarter jug to the emptied five quarter jug,\n",
    "Step 6: Now fill the three quarter jug and pour all the water to the five quarter jug from the three quarter jug.\n",
    "We now have 1+3 = 4 quarter of water in the 5 quarter jug."
   ]
  },
  {
   "cell_type": "markdown",
   "metadata": {},
   "source": [
    "### 6.6\n",
    "Blue-Eyed Island: A bunch of people are living on an island, when a visitor comes with a strange\n",
    "order: all blue-eyed people must leave the island as soon as possible. There will be a flight out at\n",
    "8:00pm every evening. Each person can see everyone else's eye color, but they do not know their\n",
    "own (nor is anyone allowed to tell them). Additionally, they do not know how many people have\n",
    "blue eyes, although they do know that at least one person does. How many days will it take the\n",
    "blue-eyed people to leave? "
   ]
  },
  {
   "cell_type": "markdown",
   "metadata": {},
   "source": [
    "Case c=1:\n",
    "    He will look around the island and he does not see any blue eyed person then he must conclude that there is only one blue eyed person and he must be the one. He will leave that evening.\n",
    "\n",
    "Case c=2:\n",
    "    He will see the other blue-eyed person. But if he does not leave the first evening, both must deduce there are two blue eyed person; and both of them should leave on the second evening.\n",
    "    \n",
    "Case n=3:\n",
    "    He will see the other two blue-eyed person. But if other two does not leave on the second evening, he must deduce that there are three blue eyed person; and all of the three person must leave on the third evening.\n",
    "    \n",
    "General case:\n",
    "    All of the blue-eyed people must leave by the c-th evening."
   ]
  },
  {
   "cell_type": "code",
   "execution_count": null,
   "metadata": {
    "collapsed": true
   },
   "outputs": [],
   "source": []
  }
 ],
 "metadata": {
  "kernelspec": {
   "display_name": "Python 3",
   "language": "python",
   "name": "python3"
  },
  "language_info": {
   "codemirror_mode": {
    "name": "ipython",
    "version": 3
   },
   "file_extension": ".py",
   "mimetype": "text/x-python",
   "name": "python",
   "nbconvert_exporter": "python",
   "pygments_lexer": "ipython3",
   "version": "3.6.3"
  }
 },
 "nbformat": 4,
 "nbformat_minor": 2
}
